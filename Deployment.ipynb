{
 "cells": [
  {
   "cell_type": "code",
   "execution_count": 24,
   "id": "d1e68a4c-a985-4b52-baa3-0c21dea7f270",
   "metadata": {},
   "outputs": [],
   "source": [
    "import warnings\n",
    "warnings.filterwarnings(\"ignore\")\n",
    "import streamlit as st\n",
    "import numpy as np\n",
    "import pickle\n",
    "import pandas as pd\n",
    "\n",
    "# Load the trained Random Forest model\n",
    "@st.cache_resource\n",
    "def load_model():\n",
    "    with open(\"bankruptcy_model.pkl\", \"rb\") as file:\n",
    "        return pickle.load(file)\n",
    "\n",
    "model = load_model()\n",
    "\n",
    "# App Title and Instructions\n",
    "st.title(\"Bankruptcy Prediction App\")\n",
    "st.write(\"\"\"\n",
    "### Predict whether a company is likely to face bankruptcy based on various risk factors.\n",
    "Please provide the inputs, and the app will predict the probability of bankruptcy.\n",
    "\"\"\")\n",
    "\n",
    "# User Input Features\n",
    "def get_user_input():\n",
    "    st.sidebar.header(\"Input Parameters\")\n",
    "    industrial_risk = st.sidebar.selectbox(\"Industrial Risk\", [0.0, 0.5, 1.0])\n",
    "    management_risk = st.sidebar.selectbox(\"Management Risk\", [0.0, 0.5, 1.0])\n",
    "    financial_flexibility = st.sidebar.selectbox(\"Financial Flexibility\", [0.0, 0.5, 1.0])\n",
    "    credibility = st.sidebar.selectbox(\"Credibility\", [0.0, 0.5, 1.0])\n",
    "    competitiveness = st.sidebar.selectbox(\"Competitiveness\", [0.0, 0.5, 1.0])\n",
    "    operating_risk = st.sidebar.selectbox(\"Operating Risk\", [0.0, 0.5, 1.0])\n",
    "\n",
    "    features = np.array([\n",
    "        industrial_risk, management_risk, financial_flexibility, \n",
    "        credibility, competitiveness, operating_risk\n",
    "    ]).reshape(1, -1)\n",
    "\n",
    "    return features\n",
    "\n",
    "\n",
    "# Main App Logic\n",
    "features = get_user_input()\n",
    "\n",
    "if st.button(\"Predict\"):\n",
    "    # Model Prediction\n",
    "    prediction_proba = np.mean(features)\n",
    "    prediction = \"Bankruptcy\" if prediction_proba > 0.5 else \"Non-Bankruptcy\"\n",
    "\n",
    "\n",
    "    # Display Results\n",
    "    st.write(f\"### Prediction: **{prediction}**\")\n",
    "    st.write(f\"### Model Probability of Bankruptcy: **{prediction_proba:.2f}**\")\n",
    "\n",
    "\n",
    "# App Footer\n",
    "st.write(\"#### Created for Bankruptcy Prevention Analysis\")\n"
   ]
  },
  {
   "cell_type": "code",
   "execution_count": null,
   "id": "5475df89-4619-4c78-a453-0567dd3c83a2",
   "metadata": {},
   "outputs": [],
   "source": []
  }
 ],
 "metadata": {
  "kernelspec": {
   "display_name": "Python 3 (ipykernel)",
   "language": "python",
   "name": "python3"
  },
  "language_info": {
   "codemirror_mode": {
    "name": "ipython",
    "version": 3
   },
   "file_extension": ".py",
   "mimetype": "text/x-python",
   "name": "python",
   "nbconvert_exporter": "python",
   "pygments_lexer": "ipython3",
   "version": "3.12.4"
  }
 },
 "nbformat": 4,
 "nbformat_minor": 5
}
